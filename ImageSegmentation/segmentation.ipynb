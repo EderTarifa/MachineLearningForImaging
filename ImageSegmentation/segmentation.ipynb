{
 "cells": [
  {
   "cell_type": "markdown",
   "metadata": {},
   "source": [
    "# Segmentation"
   ]
  },
  {
   "cell_type": "markdown",
   "metadata": {},
   "source": [
    "We will develop a CNN model for image segmentation. The structure of the code is similar to the one for image classification, but with some specific changes due to the different task. This time we are using real-world clinical data from a chest radiography dataset called JSRT. We consider a four class image segmentation taks involving the segmentation of the heart and the lungs.\n",
    "\n",
    "**Objective:** Implement a fully convolutional neural network such as U-net for semantic segmentation of chest radiography images."
   ]
  },
  {
   "cell_type": "code",
   "execution_count": 1,
   "metadata": {},
   "outputs": [],
   "source": [
    "# On Google Colab uncomment the following line to install PyTorch Lightning\n",
    "# ! pip install lightning"
   ]
  },
  {
   "cell_type": "code",
   "execution_count": 2,
   "metadata": {},
   "outputs": [],
   "source": [
    "import os\n",
    "import numpy as np\n",
    "import pandas as pd\n",
    "import torch\n",
    "import torch.nn as nn\n",
    "import torch.nn.functional as F\n",
    "import torchvision\n",
    "import matplotlib\n",
    "import matplotlib.pyplot as plt\n",
    "\n",
    "from torch.utils.data import random_split, Dataset, DataLoader\n",
    "from torchvision import transforms\n",
    "from pytorch_lightning import LightningModule, LightningDataModule, Trainer, seed_everything\n",
    "from pytorch_lightning.loggers import TensorBoardLogger\n",
    "from pytorch_lightning.callbacks import ModelCheckpoint, TQDMProgressBar\n",
    "from torchmetrics.functional import dice\n",
    "from sklearn.model_selection import train_test_split\n",
    "from skimage.io import imread\n",
    "from tqdm import tqdm"
   ]
  },
  {
   "cell_type": "markdown",
   "metadata": {},
   "source": [
    "## Data"
   ]
  },
  {
   "cell_type": "markdown",
   "metadata": {},
   "source": [
    "We need to download and extract the JSRT chest radiography dataset."
   ]
  },
  {
   "cell_type": "code",
   "execution_count": 3,
   "metadata": {},
   "outputs": [
    {
     "name": "stdout",
     "output_type": "stream",
     "text": [
      "--2025-05-10 14:36:03--  https://www.doc.ic.ac.uk/~bglocker/teaching/mli/JSRT.zip\n",
      "Resolving www.doc.ic.ac.uk (www.doc.ic.ac.uk)... 146.169.13.6\n",
      "Connecting to www.doc.ic.ac.uk (www.doc.ic.ac.uk)|146.169.13.6|:443... connected.\n",
      "HTTP request sent, awaiting response... 200 OK\n",
      "Length: 5516125 (5.3M) [application/zip]\n",
      "Saving to: ‘JSRT.zip’\n",
      "\n",
      "JSRT.zip            100%[===================>]   5.26M  6.62MB/s    in 0.8s    \n",
      "\n",
      "2025-05-10 14:36:04 (6.62 MB/s) - ‘JSRT.zip’ saved [5516125/5516125]\n",
      "\n",
      "Archive:  JSRT.zip\n",
      "   creating: data/\n",
      "   creating: data/JSRT/\n",
      "   creating: data/JSRT/images/\n",
      " extracting: data/JSRT/images/JPCLN001.png  \n",
      " extracting: data/JSRT/images/JPCLN002.png  \n",
      " extracting: data/JSRT/images/JPCLN003.png  \n",
      " extracting: data/JSRT/images/JPCLN004.png  \n",
      " extracting: data/JSRT/images/JPCLN005.png  \n",
      " extracting: data/JSRT/images/JPCLN006.png  \n",
      " extracting: data/JSRT/images/JPCLN007.png  \n",
      " extracting: data/JSRT/images/JPCLN008.png  \n",
      " extracting: data/JSRT/images/JPCLN009.png  \n",
      " extracting: data/JSRT/images/JPCLN010.png  \n",
      " extracting: data/JSRT/images/JPCLN011.png  \n",
      " extracting: data/JSRT/images/JPCLN012.png  \n",
      " extracting: data/JSRT/images/JPCLN013.png  \n",
      " extracting: data/JSRT/images/JPCLN014.png  \n",
      " extracting: data/JSRT/images/JPCLN015.png  \n",
      " extracting: data/JSRT/images/JPCLN016.png  \n",
      " extracting: data/JSRT/images/JPCLN017.png  \n",
      " extracting: data/JSRT/images/JPCLN018.png  \n",
      " extracting: data/JSRT/images/JPCLN019.png  \n",
      " extracting: data/JSRT/images/JPCLN020.png  \n",
      " extracting: data/JSRT/images/JPCLN021.png  \n",
      " extracting: data/JSRT/images/JPCLN022.png  \n",
      "  inflating: data/JSRT/images/JPCLN023.png  \n",
      " extracting: data/JSRT/images/JPCLN024.png  \n",
      " extracting: data/JSRT/images/JPCLN025.png  \n",
      " extracting: data/JSRT/images/JPCLN026.png  \n",
      " extracting: data/JSRT/images/JPCLN027.png  \n",
      " extracting: data/JSRT/images/JPCLN028.png  \n",
      " extracting: data/JSRT/images/JPCLN029.png  \n",
      " extracting: data/JSRT/images/JPCLN030.png  \n",
      " extracting: data/JSRT/images/JPCLN031.png  \n",
      " extracting: data/JSRT/images/JPCLN032.png  \n",
      " extracting: data/JSRT/images/JPCLN033.png  \n",
      " extracting: data/JSRT/images/JPCLN034.png  \n",
      " extracting: data/JSRT/images/JPCLN035.png  \n",
      " extracting: data/JSRT/images/JPCLN036.png  \n",
      " extracting: data/JSRT/images/JPCLN037.png  \n",
      " extracting: data/JSRT/images/JPCLN038.png  \n",
      " extracting: data/JSRT/images/JPCLN039.png  \n",
      " extracting: data/JSRT/images/JPCLN040.png  \n",
      " extracting: data/JSRT/images/JPCLN041.png  \n",
      " extracting: data/JSRT/images/JPCLN042.png  \n",
      " extracting: data/JSRT/images/JPCLN043.png  \n",
      " extracting: data/JSRT/images/JPCLN044.png  \n",
      " extracting: data/JSRT/images/JPCLN045.png  \n",
      " extracting: data/JSRT/images/JPCLN046.png  \n",
      " extracting: data/JSRT/images/JPCLN047.png  \n",
      " extracting: data/JSRT/images/JPCLN048.png  \n",
      " extracting: data/JSRT/images/JPCLN049.png  \n",
      " extracting: data/JSRT/images/JPCLN050.png  \n",
      "  inflating: data/JSRT/images/JPCLN051.png  \n",
      " extracting: data/JSRT/images/JPCLN052.png  \n",
      " extracting: data/JSRT/images/JPCLN053.png  \n",
      " extracting: data/JSRT/images/JPCLN054.png  \n",
      " extracting: data/JSRT/images/JPCLN055.png  \n",
      " extracting: data/JSRT/images/JPCLN056.png  \n",
      "  inflating: data/JSRT/images/JPCLN057.png  \n",
      " extracting: data/JSRT/images/JPCLN058.png  \n",
      " extracting: data/JSRT/images/JPCLN059.png  \n",
      " extracting: data/JSRT/images/JPCLN060.png  \n",
      " extracting: data/JSRT/images/JPCLN061.png  \n",
      " extracting: data/JSRT/images/JPCLN062.png  \n",
      " extracting: data/JSRT/images/JPCLN063.png  \n",
      " extracting: data/JSRT/images/JPCLN064.png  \n",
      " extracting: data/JSRT/images/JPCLN065.png  \n",
      " extracting: data/JSRT/images/JPCLN066.png  \n",
      " extracting: data/JSRT/images/JPCLN067.png  \n",
      " extracting: data/JSRT/images/JPCLN068.png  \n",
      " extracting: data/JSRT/images/JPCLN069.png  \n",
      " extracting: data/JSRT/images/JPCLN070.png  \n",
      " extracting: data/JSRT/images/JPCLN071.png  \n",
      " extracting: data/JSRT/images/JPCLN072.png  \n",
      " extracting: data/JSRT/images/JPCLN073.png  \n",
      " extracting: data/JSRT/images/JPCLN074.png  \n",
      " extracting: data/JSRT/images/JPCLN075.png  \n",
      " extracting: data/JSRT/images/JPCLN076.png  \n",
      " extracting: data/JSRT/images/JPCLN077.png  \n",
      " extracting: data/JSRT/images/JPCLN078.png  \n",
      " extracting: data/JSRT/images/JPCLN079.png  \n",
      " extracting: data/JSRT/images/JPCLN080.png  \n",
      " extracting: data/JSRT/images/JPCLN081.png  \n",
      " extracting: data/JSRT/images/JPCLN082.png  \n",
      " extracting: data/JSRT/images/JPCLN083.png  \n",
      " extracting: data/JSRT/images/JPCLN084.png  \n",
      " extracting: data/JSRT/images/JPCLN085.png  \n",
      " extracting: data/JSRT/images/JPCLN086.png  \n",
      " extracting: data/JSRT/images/JPCLN087.png  \n",
      " extracting: data/JSRT/images/JPCLN088.png  \n",
      " extracting: data/JSRT/images/JPCLN089.png  \n",
      " extracting: data/JSRT/images/JPCLN090.png  \n",
      " extracting: data/JSRT/images/JPCLN091.png  \n",
      " extracting: data/JSRT/images/JPCLN092.png  \n",
      " extracting: data/JSRT/images/JPCLN093.png  \n",
      " extracting: data/JSRT/images/JPCLN094.png  \n",
      " extracting: data/JSRT/images/JPCLN095.png  \n",
      " extracting: data/JSRT/images/JPCLN096.png  \n",
      " extracting: data/JSRT/images/JPCLN097.png  \n",
      " extracting: data/JSRT/images/JPCLN098.png  \n",
      " extracting: data/JSRT/images/JPCLN099.png  \n",
      " extracting: data/JSRT/images/JPCLN100.png  \n",
      " extracting: data/JSRT/images/JPCLN101.png  \n",
      " extracting: data/JSRT/images/JPCLN102.png  \n",
      " extracting: data/JSRT/images/JPCLN103.png  \n",
      " extracting: data/JSRT/images/JPCLN104.png  \n",
      " extracting: data/JSRT/images/JPCLN105.png  \n",
      " extracting: data/JSRT/images/JPCLN106.png  \n",
      " extracting: data/JSRT/images/JPCLN107.png  \n",
      " extracting: data/JSRT/images/JPCLN108.png  \n",
      " extracting: data/JSRT/images/JPCLN109.png  \n",
      " extracting: data/JSRT/images/JPCLN110.png  \n",
      " extracting: data/JSRT/images/JPCLN111.png  \n",
      " extracting: data/JSRT/images/JPCLN112.png  \n",
      " extracting: data/JSRT/images/JPCLN113.png  \n",
      "  inflating: data/JSRT/images/JPCLN114.png  \n",
      " extracting: data/JSRT/images/JPCLN115.png  \n",
      " extracting: data/JSRT/images/JPCLN116.png  \n",
      " extracting: data/JSRT/images/JPCLN117.png  \n",
      " extracting: data/JSRT/images/JPCLN118.png  \n",
      " extracting: data/JSRT/images/JPCLN119.png  \n",
      " extracting: data/JSRT/images/JPCLN120.png  \n",
      " extracting: data/JSRT/images/JPCLN121.png  \n",
      "  inflating: data/JSRT/images/JPCLN122.png  \n",
      " extracting: data/JSRT/images/JPCLN123.png  \n",
      " extracting: data/JSRT/images/JPCLN124.png  \n",
      " extracting: data/JSRT/images/JPCLN125.png  \n",
      " extracting: data/JSRT/images/JPCLN126.png  \n",
      " extracting: data/JSRT/images/JPCLN127.png  \n",
      " extracting: data/JSRT/images/JPCLN128.png  \n",
      " extracting: data/JSRT/images/JPCLN129.png  \n",
      " extracting: data/JSRT/images/JPCLN130.png  \n",
      " extracting: data/JSRT/images/JPCLN131.png  \n",
      " extracting: data/JSRT/images/JPCLN132.png  \n",
      " extracting: data/JSRT/images/JPCLN133.png  \n",
      " extracting: data/JSRT/images/JPCLN134.png  \n",
      " extracting: data/JSRT/images/JPCLN135.png  \n",
      " extracting: data/JSRT/images/JPCLN136.png  \n",
      " extracting: data/JSRT/images/JPCLN137.png  \n",
      " extracting: data/JSRT/images/JPCLN138.png  \n",
      " extracting: data/JSRT/images/JPCLN139.png  \n",
      " extracting: data/JSRT/images/JPCLN140.png  \n",
      " extracting: data/JSRT/images/JPCLN141.png  \n",
      " extracting: data/JSRT/images/JPCLN142.png  \n",
      " extracting: data/JSRT/images/JPCLN143.png  \n",
      " extracting: data/JSRT/images/JPCLN144.png  \n",
      " extracting: data/JSRT/images/JPCLN145.png  \n",
      " extracting: data/JSRT/images/JPCLN146.png  \n",
      " extracting: data/JSRT/images/JPCLN147.png  \n",
      " extracting: data/JSRT/images/JPCLN148.png  \n",
      " extracting: data/JSRT/images/JPCLN149.png  \n",
      " extracting: data/JSRT/images/JPCLN150.png  \n",
      " extracting: data/JSRT/images/JPCLN151.png  \n",
      " extracting: data/JSRT/images/JPCLN152.png  \n",
      " extracting: data/JSRT/images/JPCLN153.png  \n",
      " extracting: data/JSRT/images/JPCLN154.png  \n",
      " extracting: data/JSRT/images/JPCNN001.png  \n",
      " extracting: data/JSRT/images/JPCNN002.png  \n",
      " extracting: data/JSRT/images/JPCNN003.png  \n",
      " extracting: data/JSRT/images/JPCNN004.png  \n",
      " extracting: data/JSRT/images/JPCNN005.png  \n",
      " extracting: data/JSRT/images/JPCNN006.png  \n",
      " extracting: data/JSRT/images/JPCNN007.png  \n",
      " extracting: data/JSRT/images/JPCNN008.png  \n",
      " extracting: data/JSRT/images/JPCNN009.png  \n",
      " extracting: data/JSRT/images/JPCNN010.png  \n",
      " extracting: data/JSRT/images/JPCNN011.png  \n",
      " extracting: data/JSRT/images/JPCNN012.png  \n",
      " extracting: data/JSRT/images/JPCNN013.png  \n",
      " extracting: data/JSRT/images/JPCNN014.png  \n",
      " extracting: data/JSRT/images/JPCNN015.png  \n",
      " extracting: data/JSRT/images/JPCNN016.png  \n",
      " extracting: data/JSRT/images/JPCNN017.png  \n",
      " extracting: data/JSRT/images/JPCNN018.png  \n",
      " extracting: data/JSRT/images/JPCNN019.png  \n",
      " extracting: data/JSRT/images/JPCNN020.png  \n",
      " extracting: data/JSRT/images/JPCNN021.png  \n",
      " extracting: data/JSRT/images/JPCNN022.png  \n",
      " extracting: data/JSRT/images/JPCNN023.png  \n",
      " extracting: data/JSRT/images/JPCNN024.png  \n",
      " extracting: data/JSRT/images/JPCNN025.png  \n",
      " extracting: data/JSRT/images/JPCNN026.png  \n",
      " extracting: data/JSRT/images/JPCNN027.png  \n",
      " extracting: data/JSRT/images/JPCNN028.png  \n",
      " extracting: data/JSRT/images/JPCNN029.png  \n",
      " extracting: data/JSRT/images/JPCNN030.png  \n",
      " extracting: data/JSRT/images/JPCNN031.png  \n",
      " extracting: data/JSRT/images/JPCNN032.png  \n",
      " extracting: data/JSRT/images/JPCNN033.png  \n",
      " extracting: data/JSRT/images/JPCNN034.png  \n",
      " extracting: data/JSRT/images/JPCNN035.png  \n",
      " extracting: data/JSRT/images/JPCNN036.png  \n",
      " extracting: data/JSRT/images/JPCNN037.png  \n",
      " extracting: data/JSRT/images/JPCNN038.png  \n",
      " extracting: data/JSRT/images/JPCNN039.png  \n",
      " extracting: data/JSRT/images/JPCNN040.png  \n",
      " extracting: data/JSRT/images/JPCNN041.png  \n",
      "  inflating: data/JSRT/images/JPCNN042.png  \n",
      " extracting: data/JSRT/images/JPCNN043.png  \n",
      " extracting: data/JSRT/images/JPCNN044.png  \n",
      " extracting: data/JSRT/images/JPCNN045.png  \n",
      " extracting: data/JSRT/images/JPCNN046.png  \n",
      " extracting: data/JSRT/images/JPCNN047.png  \n",
      " extracting: data/JSRT/images/JPCNN048.png  \n",
      " extracting: data/JSRT/images/JPCNN049.png  \n",
      " extracting: data/JSRT/images/JPCNN050.png  \n",
      " extracting: data/JSRT/images/JPCNN051.png  \n",
      " extracting: data/JSRT/images/JPCNN052.png  \n",
      " extracting: data/JSRT/images/JPCNN053.png  \n",
      " extracting: data/JSRT/images/JPCNN054.png  \n",
      " extracting: data/JSRT/images/JPCNN055.png  \n",
      " extracting: data/JSRT/images/JPCNN056.png  \n",
      " extracting: data/JSRT/images/JPCNN057.png  \n",
      " extracting: data/JSRT/images/JPCNN058.png  \n",
      " extracting: data/JSRT/images/JPCNN059.png  \n",
      " extracting: data/JSRT/images/JPCNN060.png  \n",
      " extracting: data/JSRT/images/JPCNN061.png  \n",
      "  inflating: data/JSRT/images/JPCNN062.png  \n",
      " extracting: data/JSRT/images/JPCNN063.png  \n",
      " extracting: data/JSRT/images/JPCNN064.png  \n",
      " extracting: data/JSRT/images/JPCNN065.png  \n",
      " extracting: data/JSRT/images/JPCNN066.png  \n",
      " extracting: data/JSRT/images/JPCNN067.png  \n",
      " extracting: data/JSRT/images/JPCNN068.png  \n",
      " extracting: data/JSRT/images/JPCNN069.png  \n",
      " extracting: data/JSRT/images/JPCNN070.png  \n",
      " extracting: data/JSRT/images/JPCNN071.png  \n",
      " extracting: data/JSRT/images/JPCNN072.png  \n",
      " extracting: data/JSRT/images/JPCNN073.png  \n",
      " extracting: data/JSRT/images/JPCNN074.png  \n",
      " extracting: data/JSRT/images/JPCNN075.png  \n",
      " extracting: data/JSRT/images/JPCNN076.png  \n",
      " extracting: data/JSRT/images/JPCNN077.png  \n",
      " extracting: data/JSRT/images/JPCNN078.png  \n",
      " extracting: data/JSRT/images/JPCNN079.png  \n",
      " extracting: data/JSRT/images/JPCNN080.png  \n",
      " extracting: data/JSRT/images/JPCNN081.png  \n",
      " extracting: data/JSRT/images/JPCNN082.png  \n",
      " extracting: data/JSRT/images/JPCNN083.png  \n",
      " extracting: data/JSRT/images/JPCNN084.png  \n",
      " extracting: data/JSRT/images/JPCNN085.png  \n",
      " extracting: data/JSRT/images/JPCNN086.png  \n",
      " extracting: data/JSRT/images/JPCNN087.png  \n",
      " extracting: data/JSRT/images/JPCNN088.png  \n",
      " extracting: data/JSRT/images/JPCNN089.png  \n",
      " extracting: data/JSRT/images/JPCNN090.png  \n",
      " extracting: data/JSRT/images/JPCNN091.png  \n",
      " extracting: data/JSRT/images/JPCNN092.png  \n",
      " extracting: data/JSRT/images/JPCNN093.png  \n",
      "  inflating: data/JSRT/jsrt_metadata.csv  \n",
      "   creating: data/JSRT/masks/\n",
      " extracting: data/JSRT/masks/JPCLN001.png  \n",
      " extracting: data/JSRT/masks/JPCLN002.png  \n",
      " extracting: data/JSRT/masks/JPCLN003.png  \n",
      " extracting: data/JSRT/masks/JPCLN004.png  \n",
      " extracting: data/JSRT/masks/JPCLN005.png  \n",
      " extracting: data/JSRT/masks/JPCLN006.png  \n",
      " extracting: data/JSRT/masks/JPCLN007.png  \n",
      " extracting: data/JSRT/masks/JPCLN008.png  \n",
      " extracting: data/JSRT/masks/JPCLN009.png  \n",
      " extracting: data/JSRT/masks/JPCLN010.png  \n",
      " extracting: data/JSRT/masks/JPCLN011.png  \n",
      " extracting: data/JSRT/masks/JPCLN012.png  \n",
      " extracting: data/JSRT/masks/JPCLN013.png  \n",
      " extracting: data/JSRT/masks/JPCLN014.png  \n",
      " extracting: data/JSRT/masks/JPCLN015.png  \n",
      " extracting: data/JSRT/masks/JPCLN016.png  \n",
      " extracting: data/JSRT/masks/JPCLN017.png  \n",
      " extracting: data/JSRT/masks/JPCLN018.png  \n",
      " extracting: data/JSRT/masks/JPCLN019.png  \n",
      " extracting: data/JSRT/masks/JPCLN020.png  \n",
      " extracting: data/JSRT/masks/JPCLN021.png  \n",
      " extracting: data/JSRT/masks/JPCLN022.png  \n",
      " extracting: data/JSRT/masks/JPCLN023.png  \n",
      " extracting: data/JSRT/masks/JPCLN024.png  \n",
      " extracting: data/JSRT/masks/JPCLN025.png  \n",
      " extracting: data/JSRT/masks/JPCLN026.png  \n",
      " extracting: data/JSRT/masks/JPCLN027.png  \n",
      " extracting: data/JSRT/masks/JPCLN028.png  \n",
      " extracting: data/JSRT/masks/JPCLN029.png  \n",
      " extracting: data/JSRT/masks/JPCLN030.png  \n",
      " extracting: data/JSRT/masks/JPCLN031.png  \n",
      " extracting: data/JSRT/masks/JPCLN032.png  \n",
      " extracting: data/JSRT/masks/JPCLN033.png  \n",
      " extracting: data/JSRT/masks/JPCLN034.png  \n",
      " extracting: data/JSRT/masks/JPCLN035.png  \n",
      " extracting: data/JSRT/masks/JPCLN036.png  \n",
      " extracting: data/JSRT/masks/JPCLN037.png  \n",
      " extracting: data/JSRT/masks/JPCLN038.png  \n",
      " extracting: data/JSRT/masks/JPCLN039.png  \n",
      " extracting: data/JSRT/masks/JPCLN040.png  \n",
      " extracting: data/JSRT/masks/JPCLN041.png  \n",
      " extracting: data/JSRT/masks/JPCLN042.png  \n",
      " extracting: data/JSRT/masks/JPCLN043.png  \n",
      " extracting: data/JSRT/masks/JPCLN044.png  \n",
      " extracting: data/JSRT/masks/JPCLN045.png  \n",
      " extracting: data/JSRT/masks/JPCLN046.png  \n",
      " extracting: data/JSRT/masks/JPCLN047.png  \n",
      " extracting: data/JSRT/masks/JPCLN048.png  \n",
      " extracting: data/JSRT/masks/JPCLN049.png  \n",
      " extracting: data/JSRT/masks/JPCLN050.png  \n",
      " extracting: data/JSRT/masks/JPCLN051.png  \n",
      " extracting: data/JSRT/masks/JPCLN052.png  \n",
      " extracting: data/JSRT/masks/JPCLN053.png  \n",
      " extracting: data/JSRT/masks/JPCLN054.png  \n",
      " extracting: data/JSRT/masks/JPCLN055.png  \n",
      " extracting: data/JSRT/masks/JPCLN056.png  \n",
      " extracting: data/JSRT/masks/JPCLN057.png  \n",
      " extracting: data/JSRT/masks/JPCLN058.png  \n",
      " extracting: data/JSRT/masks/JPCLN059.png  \n",
      " extracting: data/JSRT/masks/JPCLN060.png  \n",
      " extracting: data/JSRT/masks/JPCLN061.png  \n",
      " extracting: data/JSRT/masks/JPCLN062.png  \n",
      " extracting: data/JSRT/masks/JPCLN063.png  \n",
      " extracting: data/JSRT/masks/JPCLN064.png  \n",
      " extracting: data/JSRT/masks/JPCLN065.png  \n",
      " extracting: data/JSRT/masks/JPCLN066.png  \n",
      " extracting: data/JSRT/masks/JPCLN067.png  \n",
      " extracting: data/JSRT/masks/JPCLN068.png  \n",
      " extracting: data/JSRT/masks/JPCLN069.png  \n",
      " extracting: data/JSRT/masks/JPCLN070.png  \n",
      " extracting: data/JSRT/masks/JPCLN071.png  \n",
      " extracting: data/JSRT/masks/JPCLN072.png  \n",
      " extracting: data/JSRT/masks/JPCLN073.png  \n",
      " extracting: data/JSRT/masks/JPCLN074.png  \n",
      " extracting: data/JSRT/masks/JPCLN075.png  \n",
      " extracting: data/JSRT/masks/JPCLN076.png  \n",
      " extracting: data/JSRT/masks/JPCLN077.png  \n",
      " extracting: data/JSRT/masks/JPCLN078.png  \n",
      " extracting: data/JSRT/masks/JPCLN079.png  \n",
      " extracting: data/JSRT/masks/JPCLN080.png  \n",
      " extracting: data/JSRT/masks/JPCLN081.png  \n",
      " extracting: data/JSRT/masks/JPCLN082.png  \n",
      " extracting: data/JSRT/masks/JPCLN083.png  \n",
      " extracting: data/JSRT/masks/JPCLN084.png  \n",
      " extracting: data/JSRT/masks/JPCLN085.png  \n",
      " extracting: data/JSRT/masks/JPCLN086.png  \n",
      " extracting: data/JSRT/masks/JPCLN087.png  \n",
      " extracting: data/JSRT/masks/JPCLN088.png  \n",
      " extracting: data/JSRT/masks/JPCLN089.png  \n",
      " extracting: data/JSRT/masks/JPCLN090.png  \n",
      " extracting: data/JSRT/masks/JPCLN091.png  \n",
      " extracting: data/JSRT/masks/JPCLN092.png  \n",
      " extracting: data/JSRT/masks/JPCLN093.png  \n",
      " extracting: data/JSRT/masks/JPCLN094.png  \n",
      " extracting: data/JSRT/masks/JPCLN095.png  \n",
      " extracting: data/JSRT/masks/JPCLN096.png  \n",
      " extracting: data/JSRT/masks/JPCLN097.png  \n",
      " extracting: data/JSRT/masks/JPCLN098.png  \n",
      " extracting: data/JSRT/masks/JPCLN099.png  \n",
      " extracting: data/JSRT/masks/JPCLN100.png  \n",
      " extracting: data/JSRT/masks/JPCLN101.png  \n",
      " extracting: data/JSRT/masks/JPCLN102.png  \n",
      " extracting: data/JSRT/masks/JPCLN103.png  \n",
      " extracting: data/JSRT/masks/JPCLN104.png  \n",
      " extracting: data/JSRT/masks/JPCLN105.png  \n",
      " extracting: data/JSRT/masks/JPCLN106.png  \n",
      " extracting: data/JSRT/masks/JPCLN107.png  \n",
      " extracting: data/JSRT/masks/JPCLN108.png  \n",
      " extracting: data/JSRT/masks/JPCLN109.png  \n",
      " extracting: data/JSRT/masks/JPCLN110.png  \n",
      " extracting: data/JSRT/masks/JPCLN111.png  \n",
      " extracting: data/JSRT/masks/JPCLN112.png  \n",
      " extracting: data/JSRT/masks/JPCLN113.png  \n",
      " extracting: data/JSRT/masks/JPCLN114.png  \n",
      " extracting: data/JSRT/masks/JPCLN115.png  \n",
      " extracting: data/JSRT/masks/JPCLN116.png  \n",
      " extracting: data/JSRT/masks/JPCLN117.png  \n",
      " extracting: data/JSRT/masks/JPCLN118.png  \n",
      " extracting: data/JSRT/masks/JPCLN119.png  \n",
      " extracting: data/JSRT/masks/JPCLN120.png  \n",
      " extracting: data/JSRT/masks/JPCLN121.png  \n",
      " extracting: data/JSRT/masks/JPCLN122.png  \n",
      " extracting: data/JSRT/masks/JPCLN123.png  \n",
      " extracting: data/JSRT/masks/JPCLN124.png  \n",
      " extracting: data/JSRT/masks/JPCLN125.png  \n",
      " extracting: data/JSRT/masks/JPCLN126.png  \n",
      " extracting: data/JSRT/masks/JPCLN127.png  \n",
      " extracting: data/JSRT/masks/JPCLN128.png  \n",
      " extracting: data/JSRT/masks/JPCLN129.png  \n",
      " extracting: data/JSRT/masks/JPCLN130.png  \n",
      " extracting: data/JSRT/masks/JPCLN131.png  \n",
      " extracting: data/JSRT/masks/JPCLN132.png  \n",
      " extracting: data/JSRT/masks/JPCLN133.png  \n",
      " extracting: data/JSRT/masks/JPCLN134.png  \n",
      " extracting: data/JSRT/masks/JPCLN135.png  \n",
      " extracting: data/JSRT/masks/JPCLN136.png  \n",
      " extracting: data/JSRT/masks/JPCLN137.png  \n",
      " extracting: data/JSRT/masks/JPCLN138.png  \n",
      " extracting: data/JSRT/masks/JPCLN139.png  \n",
      " extracting: data/JSRT/masks/JPCLN140.png  \n",
      " extracting: data/JSRT/masks/JPCLN141.png  \n",
      " extracting: data/JSRT/masks/JPCLN142.png  \n",
      " extracting: data/JSRT/masks/JPCLN143.png  \n",
      " extracting: data/JSRT/masks/JPCLN144.png  \n",
      " extracting: data/JSRT/masks/JPCLN145.png  \n",
      " extracting: data/JSRT/masks/JPCLN146.png  \n",
      " extracting: data/JSRT/masks/JPCLN147.png  \n",
      " extracting: data/JSRT/masks/JPCLN148.png  \n",
      " extracting: data/JSRT/masks/JPCLN149.png  \n",
      " extracting: data/JSRT/masks/JPCLN150.png  \n",
      " extracting: data/JSRT/masks/JPCLN151.png  \n",
      " extracting: data/JSRT/masks/JPCLN152.png  \n",
      " extracting: data/JSRT/masks/JPCLN153.png  \n",
      " extracting: data/JSRT/masks/JPCLN154.png  \n",
      " extracting: data/JSRT/masks/JPCNN001.png  \n",
      " extracting: data/JSRT/masks/JPCNN002.png  \n",
      " extracting: data/JSRT/masks/JPCNN003.png  \n",
      " extracting: data/JSRT/masks/JPCNN004.png  \n",
      " extracting: data/JSRT/masks/JPCNN005.png  \n",
      " extracting: data/JSRT/masks/JPCNN006.png  \n",
      " extracting: data/JSRT/masks/JPCNN007.png  \n",
      " extracting: data/JSRT/masks/JPCNN008.png  \n",
      " extracting: data/JSRT/masks/JPCNN009.png  \n",
      " extracting: data/JSRT/masks/JPCNN010.png  \n",
      " extracting: data/JSRT/masks/JPCNN011.png  \n",
      " extracting: data/JSRT/masks/JPCNN012.png  \n",
      " extracting: data/JSRT/masks/JPCNN013.png  \n",
      " extracting: data/JSRT/masks/JPCNN014.png  \n",
      " extracting: data/JSRT/masks/JPCNN015.png  \n",
      " extracting: data/JSRT/masks/JPCNN016.png  \n",
      " extracting: data/JSRT/masks/JPCNN017.png  \n",
      " extracting: data/JSRT/masks/JPCNN018.png  \n",
      " extracting: data/JSRT/masks/JPCNN019.png  \n",
      " extracting: data/JSRT/masks/JPCNN020.png  \n",
      " extracting: data/JSRT/masks/JPCNN021.png  \n",
      " extracting: data/JSRT/masks/JPCNN022.png  \n",
      " extracting: data/JSRT/masks/JPCNN023.png  \n",
      " extracting: data/JSRT/masks/JPCNN024.png  \n",
      " extracting: data/JSRT/masks/JPCNN025.png  \n",
      " extracting: data/JSRT/masks/JPCNN026.png  \n",
      " extracting: data/JSRT/masks/JPCNN027.png  \n",
      " extracting: data/JSRT/masks/JPCNN028.png  \n",
      " extracting: data/JSRT/masks/JPCNN029.png  \n",
      " extracting: data/JSRT/masks/JPCNN030.png  \n",
      " extracting: data/JSRT/masks/JPCNN031.png  \n",
      " extracting: data/JSRT/masks/JPCNN032.png  \n",
      " extracting: data/JSRT/masks/JPCNN033.png  \n",
      " extracting: data/JSRT/masks/JPCNN034.png  \n",
      " extracting: data/JSRT/masks/JPCNN035.png  \n",
      " extracting: data/JSRT/masks/JPCNN036.png  \n",
      " extracting: data/JSRT/masks/JPCNN037.png  \n",
      " extracting: data/JSRT/masks/JPCNN038.png  \n",
      " extracting: data/JSRT/masks/JPCNN039.png  \n",
      " extracting: data/JSRT/masks/JPCNN040.png  \n",
      " extracting: data/JSRT/masks/JPCNN041.png  \n",
      " extracting: data/JSRT/masks/JPCNN042.png  \n",
      " extracting: data/JSRT/masks/JPCNN043.png  \n",
      " extracting: data/JSRT/masks/JPCNN044.png  \n",
      " extracting: data/JSRT/masks/JPCNN045.png  \n",
      " extracting: data/JSRT/masks/JPCNN046.png  \n",
      " extracting: data/JSRT/masks/JPCNN047.png  \n",
      " extracting: data/JSRT/masks/JPCNN048.png  \n",
      " extracting: data/JSRT/masks/JPCNN049.png  \n",
      " extracting: data/JSRT/masks/JPCNN050.png  \n",
      " extracting: data/JSRT/masks/JPCNN051.png  \n",
      " extracting: data/JSRT/masks/JPCNN052.png  \n",
      " extracting: data/JSRT/masks/JPCNN053.png  \n",
      " extracting: data/JSRT/masks/JPCNN054.png  \n",
      " extracting: data/JSRT/masks/JPCNN055.png  \n",
      " extracting: data/JSRT/masks/JPCNN056.png  \n",
      " extracting: data/JSRT/masks/JPCNN057.png  \n",
      " extracting: data/JSRT/masks/JPCNN058.png  \n",
      " extracting: data/JSRT/masks/JPCNN059.png  \n",
      " extracting: data/JSRT/masks/JPCNN060.png  \n",
      " extracting: data/JSRT/masks/JPCNN061.png  \n",
      " extracting: data/JSRT/masks/JPCNN062.png  \n",
      " extracting: data/JSRT/masks/JPCNN063.png  \n",
      " extracting: data/JSRT/masks/JPCNN064.png  \n",
      " extracting: data/JSRT/masks/JPCNN065.png  \n",
      " extracting: data/JSRT/masks/JPCNN066.png  \n",
      " extracting: data/JSRT/masks/JPCNN067.png  \n",
      " extracting: data/JSRT/masks/JPCNN068.png  \n",
      " extracting: data/JSRT/masks/JPCNN069.png  \n",
      " extracting: data/JSRT/masks/JPCNN070.png  \n",
      " extracting: data/JSRT/masks/JPCNN071.png  \n",
      " extracting: data/JSRT/masks/JPCNN072.png  \n",
      " extracting: data/JSRT/masks/JPCNN073.png  \n",
      " extracting: data/JSRT/masks/JPCNN074.png  \n",
      " extracting: data/JSRT/masks/JPCNN075.png  \n",
      " extracting: data/JSRT/masks/JPCNN076.png  \n",
      " extracting: data/JSRT/masks/JPCNN077.png  \n",
      " extracting: data/JSRT/masks/JPCNN078.png  \n",
      " extracting: data/JSRT/masks/JPCNN079.png  \n",
      " extracting: data/JSRT/masks/JPCNN080.png  \n",
      " extracting: data/JSRT/masks/JPCNN081.png  \n",
      " extracting: data/JSRT/masks/JPCNN082.png  \n",
      "  inflating: data/JSRT/masks/JPCNN083.png  \n",
      " extracting: data/JSRT/masks/JPCNN084.png  \n",
      " extracting: data/JSRT/masks/JPCNN085.png  \n",
      " extracting: data/JSRT/masks/JPCNN086.png  \n",
      " extracting: data/JSRT/masks/JPCNN087.png  \n",
      " extracting: data/JSRT/masks/JPCNN088.png  \n",
      " extracting: data/JSRT/masks/JPCNN089.png  \n",
      " extracting: data/JSRT/masks/JPCNN090.png  \n",
      " extracting: data/JSRT/masks/JPCNN091.png  \n",
      "  inflating: data/JSRT/masks/JPCNN092.png  \n",
      " extracting: data/JSRT/masks/JPCNN093.png  \n"
     ]
    }
   ],
   "source": [
    "! wget https://www.doc.ic.ac.uk/~bglocker/teaching/mli/JSRT.zip\n",
    "! unzip JSRT.zip"
   ]
  },
  {
   "cell_type": "markdown",
   "metadata": {},
   "source": [
    "Let's visualise a random image with its segmentation labelmap"
   ]
  },
  {
   "cell_type": "code",
   "execution_count": 4,
   "metadata": {},
   "outputs": [
    {
     "data": {
      "text/plain": [
       "Text(0.5, 1.0, 'labelmap')"
      ]
     },
     "execution_count": 4,
     "metadata": {},
     "output_type": "execute_result"
    },
    {
     "data": {
      "image/png": "[encoded data removed]",
      "text/plain": [
       "<Figure size 1000x1000 with 2 Axes>"
      ]
     },
     "metadata": {},
     "output_type": "display_data"
    }
   ],
   "source": [
    "image = imread('data/JSRT/images/JPCLN001.png')\n",
    "labelmap = imread('data/JSRT/masks/JPCLN001.png')\n",
    "\n",
    "f, ax = plt.subplots(1,2, figsize=(10, 10))\n",
    "\n",
    "ax[0].imshow(image, cmap=matplotlib.cm.gray)\n",
    "ax[0].axis('off')\n",
    "ax[0].set_title('image')\n",
    "\n",
    "ax[1].imshow(labelmap, cmap=matplotlib.cm.gray)\n",
    "ax[1].axis('off')\n",
    "ax[1].set_title('labelmap')"
   ]
  },
  {
   "cell_type": "markdown",
   "metadata": {},
   "source": [
    "We provide a custom [PyTorch Dataset](https://pytorch.org/tutorials/beginner/basics/data_tutorial.html) that loads and processes the JSRT dataset."
   ]
  },
  {
   "cell_type": "code",
   "execution_count": 5,
   "metadata": {},
   "outputs": [],
   "source": [
    "class JSRTDataset(Dataset):\n",
    "    def __init__(self, data: pd.DataFrame, data_dir: str, augmentation: bool = False):\n",
    "        self.data = data.reset_index(drop=True)\n",
    "        self.data_dir = data_dir        \n",
    "        self.do_augment = augmentation\n",
    "\n",
    "        # photometric data augmentation\n",
    "        self.photometric_augment = transforms.Compose([\n",
    "            transforms.RandomApply(transforms=[transforms.ColorJitter(brightness=0.2, contrast=0.2)], p=0.5),\n",
    "        ])\n",
    "\n",
    "        # geometric data augmentation\n",
    "        self.geometric_augment = transforms.Compose([\n",
    "            transforms.RandomApply(transforms=[transforms.RandomAffine(degrees=5, scale=(0.9, 1.1), interpolation=transforms.InterpolationMode.NEAREST)], p=0.5),\n",
    "        ])\n",
    "\n",
    "        # collect samples (file paths) from dataset\n",
    "        self.samples = []\n",
    "        for idx, _ in enumerate(tqdm(range(len(self.data)), desc='Loading Data')):\n",
    "            img_path = os.path.join(self.data_dir, 'images', self.data.loc[idx, 'study_id'])\n",
    "            lab_path = os.path.join(self.data_dir, 'masks', self.data.loc[idx, 'study_id'])\n",
    "\n",
    "            sample = {'image_path': img_path, 'labelmap_path': lab_path}\n",
    "            self.samples.append(sample)\n",
    "\n",
    "    def __len__(self):\n",
    "        return len(self.data)\n",
    "\n",
    "    def __getitem__(self, item):\n",
    "        sample = self.get_sample(item)\n",
    "\n",
    "        # conver to torch tensors and add batch dimension\n",
    "        image = torch.from_numpy(sample['image']).unsqueeze(0)\n",
    "        labelmap = torch.from_numpy(sample['labelmap']).unsqueeze(0)\n",
    "\n",
    "        # apply data augmentation\n",
    "        if self.do_augment:\n",
    "            image = self.photometric_augment(image.type(torch.ByteTensor)).type(torch.FloatTensor)\n",
    "            \n",
    "            # Stack the image and mask together so they get the same geometric transformations\n",
    "            stacked = torch.cat([image, labelmap], dim=0)  # shape=(2xHxW)\n",
    "            stacked = self.geometric_augment(stacked)\n",
    "\n",
    "            # Split them back up again and convert labelmap back to datatype long\n",
    "            image, labelmap = torch.chunk(stacked, chunks=2, dim=0)\n",
    "            labelmap = labelmap.type(torch.LongTensor)\n",
    "\n",
    "        # normalize image intensities to [0,1]\n",
    "        image /= 255\n",
    "\n",
    "        return {'image': image, 'labelmap': labelmap}\n",
    "\n",
    "    def get_sample(self, item):\n",
    "        sample = self.samples[item]\n",
    "        \n",
    "        # read image and labelmap from disk\n",
    "        image = imread(sample['image_path']).astype(np.float32)\n",
    "        labelmap = imread(sample['labelmap_path']).astype(np.int64)\n",
    "\n",
    "        # convert labelmap to consecutive labels\n",
    "        labelmap[labelmap==250] = 1 # heart\n",
    "        labelmap[labelmap==200] = 2 # left lung\n",
    "        labelmap[labelmap==150] = 3 # right lung\n",
    "        labelmap[labelmap>3] = 0 # background\n",
    "\n",
    "        return {'image': image, 'labelmap': labelmap}"
   ]
  },
  {
   "cell_type": "markdown",
   "metadata": {},
   "source": [
    "We use a [LightningDataModule](https://lightning.ai/docs/pytorch/stable/data/datamodule.html) for handling the JSRT dataset."
   ]
  },
  {
   "cell_type": "code",
   "execution_count": 6,
   "metadata": {},
   "outputs": [],
   "source": [
    "class JSRTDataModule(LightningDataModule):\n",
    "    def __init__(self, data_dir: str = './data/JSRT', batch_size: int = 5):\n",
    "        super().__init__()\n",
    "        self.data_dir = data_dir\n",
    "        self.batch_size = batch_size\n",
    "\n",
    "        self.data = pd.read_csv(os.path.join(self.data_dir,'jsrt_metadata.csv'))\n",
    "        dev, self.test_data = train_test_split(self.data, test_size=0.2)\n",
    "        self.train_data, self.val_data = train_test_split(dev, test_size=0.05)\n",
    "        \n",
    "        self.train_set = JSRTDataset(self.train_data, self.data_dir, augmentation=True)\n",
    "        self.val_set = JSRTDataset(self.val_data, self.data_dir, augmentation=False)\n",
    "        self.test_set = JSRTDataset(self.test_data, self.data_dir, augmentation=False)\n",
    "\n",
    "    def train_dataloader(self):\n",
    "        return DataLoader(dataset=self.train_set, batch_size=self.batch_size, shuffle=True)\n",
    "\n",
    "    def val_dataloader(self):\n",
    "        return DataLoader(dataset=self.val_set, batch_size=self.batch_size, shuffle=False)\n",
    "\n",
    "    def test_dataloader(self):\n",
    "        return DataLoader(dataset=self.test_set, batch_size=self.batch_size, shuffle=False)"
   ]
  },
  {
   "cell_type": "markdown",
   "metadata": {},
   "source": [
    "## Model"
   ]
  },
  {
   "cell_type": "markdown",
   "metadata": {},
   "source": [
    "We use a [LightningModule](https://lightning.ai/docs/pytorch/stable/common/lightning_module.html) for implementing the model and its training and testing steps.\n",
    "\n",
    "**Task:** Replace the single-layer network with a U-net-like CNN architecture. You need to add the model layers and change the forward pass accordingly."
   ]
  },
  {
   "cell_type": "code",
   "execution_count": 7,
   "metadata": {},
   "outputs": [],
   "source": [
    "class ImageSegmenter(LightningModule):\n",
    "    def __init__(self, output_dim: int, learning_rate: float = 0.001):\n",
    "        super().__init__()\n",
    "        self.output_dim = output_dim\n",
    "        self.learning_rate = learning_rate\n",
    "        self.test_probmaps = []\n",
    "        self.test_predmaps = []\n",
    "\n",
    "        # single-layer network (regression-like)\n",
    "        self.conv = nn.Conv2d(1, self.output_dim, kernel_size=7, padding=3)\n",
    "\n",
    "    def forward(self, x):        \n",
    "        return self.conv(x)\n",
    "\n",
    "    def configure_optimizers(self):\n",
    "        optimizer = torch.optim.Adam(self.parameters(), lr=self.learning_rate)\n",
    "        return optimizer\n",
    "    \n",
    "    def process_batch(self, batch):\n",
    "        x, y = batch['image'], batch['labelmap']\n",
    "        logits = self(x)\n",
    "        loss = F.cross_entropy(logits, y.squeeze())\n",
    "\n",
    "        probs = torch.softmax(logits, dim=1)\n",
    "        preds = torch.argmax(probs, dim=1)\n",
    "        dsc = dice(preds, y.squeeze(), average='macro', num_classes=self.output_dim, ignore_index=0)\n",
    "        \n",
    "        return loss, dsc, probs, preds\n",
    "\n",
    "    def training_step(self, batch, batch_idx):\n",
    "        loss, dsc, probs, preds = self.process_batch(batch)\n",
    "        self.log(\"train_loss\", loss, prog_bar=True)\n",
    "        self.log(\"train_dice\", dsc, prog_bar=True)\n",
    "        \n",
    "        if batch_idx == 0:\n",
    "            grid = torchvision.utils.make_grid(batch['image'][0:4, ...], nrow=2, normalize=True)\n",
    "            self.logger.experiment.add_image('train_images', grid, self.global_step)\n",
    "\n",
    "            grid = torchvision.utils.make_grid(batch['labelmap'][0:4, ...].type('torch.FloatTensor'), nrow=2, normalize=True)\n",
    "            self.logger.experiment.add_image('train_labelmaps', grid, self.global_step)\n",
    "\n",
    "            grid = torchvision.utils.make_grid(probs[0:4, 1:4, ...], nrow=2, normalize=True)\n",
    "            self.logger.experiment.add_image('train_probmaps', grid, self.global_step)\n",
    "        \n",
    "            grid = torchvision.utils.make_grid(preds[0:4, ...].unsqueeze(1).type('torch.FloatTensor'), nrow=2, normalize=True)\n",
    "            self.logger.experiment.add_image('train_predmaps', grid, self.global_step)\n",
    "        return loss\n",
    "\n",
    "    def validation_step(self, batch, batch_idx):\n",
    "        loss, dsc, _, _ = self.process_batch(batch)\n",
    "        self.log(\"val_loss\", loss, prog_bar=True)\n",
    "        self.log(\"val_dice\", dsc, prog_bar=True)\n",
    "\n",
    "    def on_test_start(self):\n",
    "        self.test_probmaps = []\n",
    "        self.test_predmaps = []\n",
    "    \n",
    "    def test_step(self, batch, batch_idx):\n",
    "        loss, dsc, probs, preds = self.process_batch(batch)\n",
    "        self.log(\"test_loss\", loss)\n",
    "        self.log(\"test_dice\", dsc)\n",
    "        self.test_probmaps.append(probs)\n",
    "        self.test_predmaps.append(preds)"
   ]
  },
  {
   "cell_type": "markdown",
   "metadata": {},
   "source": [
    "## Training"
   ]
  },
  {
   "cell_type": "markdown",
   "metadata": {},
   "source": [
    "We use the PyTorch Lightning [Trainer](https://lightning.ai/docs/pytorch/stable/common/trainer.html) for training and testing."
   ]
  },
  {
   "cell_type": "code",
   "execution_count": 8,
   "metadata": {},
   "outputs": [
    {
     "name": "stderr",
     "output_type": "stream",
     "text": [
      "Seed set to 42\n",
      "Loading Data: 100%|██████████| 187/187 [00:00<00:00, 56096.04it/s]\n",
      "Loading Data: 100%|██████████| 10/10 [00:00<00:00, 7561.39it/s]\n",
      "Loading Data: 100%|██████████| 50/50 [00:00<00:00, 48177.17it/s]\n",
      "GPU available: True (cuda), used: True\n",
      "TPU available: False, using: 0 TPU cores\n",
      "HPU available: False, using: 0 HPUs\n",
      "You are using a CUDA device ('NVIDIA GeForce RTX 4060 Laptop GPU') that has Tensor Cores. To properly utilize them, you should set `torch.set_float32_matmul_precision('medium' | 'high')` which will trade-off precision for performance. For more details, read https://pytorch.org/docs/stable/generated/torch.set_float32_matmul_precision.html#torch.set_float32_matmul_precision\n",
      "LOCAL_RANK: 0 - CUDA_VISIBLE_DEVICES: [0]\n",
      "\n",
      "  | Name | Type   | Params | Mode \n",
      "----------------------------------------\n",
      "0 | conv | Conv2d | 200    | train\n",
      "----------------------------------------\n",
      "200       Trainable params\n",
      "0         Non-trainable params\n",
      "200       Total params\n",
      "0.001     Total estimated model params size (MB)\n",
      "1         Modules in train mode\n",
      "0         Modules in eval mode\n"
     ]
    },
    {
     "data": {
      "application/vnd.jupyter.widget-view+json": {
       "model_id": "1369f28072d14594a79207f9e482cded",
       "version_major": 2,
       "version_minor": 0
      },
      "text/plain": [
       "Sanity Checking: |          | 0/? [00:00<?, ?it/s]"
      ]
     },
     "metadata": {},
     "output_type": "display_data"
    },
    {
     "name": "stderr",
     "output_type": "stream",
     "text": [
      "/home/eder/miniconda3/envs/mlimaging/lib/python3.10/site-packages/pytorch_lightning/trainer/connectors/data_connector.py:425: The 'val_dataloader' does not have many workers which may be a bottleneck. Consider increasing the value of the `num_workers` argument` to `num_workers=11` in the `DataLoader` to improve performance.\n",
      "/home/eder/miniconda3/envs/mlimaging/lib/python3.10/site-packages/pytorch_lightning/trainer/connectors/data_connector.py:425: The 'train_dataloader' does not have many workers which may be a bottleneck. Consider increasing the value of the `num_workers` argument` to `num_workers=11` in the `DataLoader` to improve performance.\n"
     ]
    },
    {
     "data": {
      "application/vnd.jupyter.widget-view+json": {
       "model_id": "8ba8731784c64b25a9b314814cbda9ba",
       "version_major": 2,
       "version_minor": 0
      },
      "text/plain": [
       "Training: |          | 0/? [00:00<?, ?it/s]"
      ]
     },
     "metadata": {},
     "output_type": "display_data"
    },
    {
     "data": {
      "application/vnd.jupyter.widget-view+json": {
       "model_id": "ca89c1a0dc334a6c90aa0a1a12535ddc",
       "version_major": 2,
       "version_minor": 0
      },
      "text/plain": [
       "Validation: |          | 0/? [00:00<?, ?it/s]"
      ]
     },
     "metadata": {},
     "output_type": "display_data"
    },
    {
     "data": {
      "application/vnd.jupyter.widget-view+json": {
       "model_id": "83259b782dbc4a2699e2926208f36814",
       "version_major": 2,
       "version_minor": 0
      },
      "text/plain": [
       "Validation: |          | 0/? [00:00<?, ?it/s]"
      ]
     },
     "metadata": {},
     "output_type": "display_data"
    },
    {
     "data": {
      "application/vnd.jupyter.widget-view+json": {
       "model_id": "628de08b8e9c43bbb7a988ef3fb9bb41",
       "version_major": 2,
       "version_minor": 0
      },
      "text/plain": [
       "Validation: |          | 0/? [00:00<?, ?it/s]"
      ]
     },
     "metadata": {},
     "output_type": "display_data"
    },
    {
     "data": {
      "application/vnd.jupyter.widget-view+json": {
       "model_id": "504009116cc34c11a693ccc69e453112",
       "version_major": 2,
       "version_minor": 0
      },
      "text/plain": [
       "Validation: |          | 0/? [00:00<?, ?it/s]"
      ]
     },
     "metadata": {},
     "output_type": "display_data"
    },
    {
     "data": {
      "application/vnd.jupyter.widget-view+json": {
       "model_id": "335fc50ce9af498397870db631727d6c",
       "version_major": 2,
       "version_minor": 0
      },
      "text/plain": [
       "Validation: |          | 0/? [00:00<?, ?it/s]"
      ]
     },
     "metadata": {},
     "output_type": "display_data"
    },
    {
     "data": {
      "application/vnd.jupyter.widget-view+json": {
       "model_id": "0e71df40c10846858ea99f3678807c74",
       "version_major": 2,
       "version_minor": 0
      },
      "text/plain": [
       "Validation: |          | 0/? [00:00<?, ?it/s]"
      ]
     },
     "metadata": {},
     "output_type": "display_data"
    },
    {
     "data": {
      "application/vnd.jupyter.widget-view+json": {
       "model_id": "77fc0e287cbb4ea98b9e552247730286",
       "version_major": 2,
       "version_minor": 0
      },
      "text/plain": [
       "Validation: |          | 0/? [00:00<?, ?it/s]"
      ]
     },
     "metadata": {},
     "output_type": "display_data"
    },
    {
     "data": {
      "application/vnd.jupyter.widget-view+json": {
       "model_id": "45c8905b80334e49959005940398a6d9",
       "version_major": 2,
       "version_minor": 0
      },
      "text/plain": [
       "Validation: |          | 0/? [00:00<?, ?it/s]"
      ]
     },
     "metadata": {},
     "output_type": "display_data"
    },
    {
     "data": {
      "application/vnd.jupyter.widget-view+json": {
       "model_id": "abb175d3bc9547ce80586283f2eebaee",
       "version_major": 2,
       "version_minor": 0
      },
      "text/plain": [
       "Validation: |          | 0/? [00:00<?, ?it/s]"
      ]
     },
     "metadata": {},
     "output_type": "display_data"
    },
    {
     "data": {
      "application/vnd.jupyter.widget-view+json": {
       "model_id": "17e8c3100fcc460792203c726a6d4bd2",
       "version_major": 2,
       "version_minor": 0
      },
      "text/plain": [
       "Validation: |          | 0/? [00:00<?, ?it/s]"
      ]
     },
     "metadata": {},
     "output_type": "display_data"
    },
    {
     "data": {
      "application/vnd.jupyter.widget-view+json": {
       "model_id": "ad37137a06744440a64e46b1b1e89430",
       "version_major": 2,
       "version_minor": 0
      },
      "text/plain": [
       "Validation: |          | 0/? [00:00<?, ?it/s]"
      ]
     },
     "metadata": {},
     "output_type": "display_data"
    },
    {
     "data": {
      "application/vnd.jupyter.widget-view+json": {
       "model_id": "79adb47fe7ef4f0bb88e0a1ad8ebc4e8",
       "version_major": 2,
       "version_minor": 0
      },
      "text/plain": [
       "Validation: |          | 0/? [00:00<?, ?it/s]"
      ]
     },
     "metadata": {},
     "output_type": "display_data"
    },
    {
     "data": {
      "application/vnd.jupyter.widget-view+json": {
       "model_id": "73e46bdd64874fa591b3b317573d257a",
       "version_major": 2,
       "version_minor": 0
      },
      "text/plain": [
       "Validation: |          | 0/? [00:00<?, ?it/s]"
      ]
     },
     "metadata": {},
     "output_type": "display_data"
    },
    {
     "data": {
      "application/vnd.jupyter.widget-view+json": {
       "model_id": "0702ac727a824432853b4cd8724c2b41",
       "version_major": 2,
       "version_minor": 0
      },
      "text/plain": [
       "Validation: |          | 0/? [00:00<?, ?it/s]"
      ]
     },
     "metadata": {},
     "output_type": "display_data"
    },
    {
     "data": {
      "application/vnd.jupyter.widget-view+json": {
       "model_id": "e08ccc1c9b0848c788c98a3d5b499f66",
       "version_major": 2,
       "version_minor": 0
      },
      "text/plain": [
       "Validation: |          | 0/? [00:00<?, ?it/s]"
      ]
     },
     "metadata": {},
     "output_type": "display_data"
    },
    {
     "data": {
      "application/vnd.jupyter.widget-view+json": {
       "model_id": "f4bf9704d9df407dae31d5d482534947",
       "version_major": 2,
       "version_minor": 0
      },
      "text/plain": [
       "Validation: |          | 0/? [00:00<?, ?it/s]"
      ]
     },
     "metadata": {},
     "output_type": "display_data"
    },
    {
     "data": {
      "application/vnd.jupyter.widget-view+json": {
       "model_id": "d0e76aba84ba484b9f56587f004f6f80",
       "version_major": 2,
       "version_minor": 0
      },
      "text/plain": [
       "Validation: |          | 0/? [00:00<?, ?it/s]"
      ]
     },
     "metadata": {},
     "output_type": "display_data"
    },
    {
     "data": {
      "application/vnd.jupyter.widget-view+json": {
       "model_id": "f8520c1fb0424b7f822c823977fca829",
       "version_major": 2,
       "version_minor": 0
      },
      "text/plain": [
       "Validation: |          | 0/? [00:00<?, ?it/s]"
      ]
     },
     "metadata": {},
     "output_type": "display_data"
    },
    {
     "data": {
      "application/vnd.jupyter.widget-view+json": {
       "model_id": "7e490f8d2ecb41ae90e624f5f7f561e8",
       "version_major": 2,
       "version_minor": 0
      },
      "text/plain": [
       "Validation: |          | 0/? [00:00<?, ?it/s]"
      ]
     },
     "metadata": {},
     "output_type": "display_data"
    },
    {
     "data": {
      "application/vnd.jupyter.widget-view+json": {
       "model_id": "534150d57c684fcdbcab877192e9b9f9",
       "version_major": 2,
       "version_minor": 0
      },
      "text/plain": [
       "Validation: |          | 0/? [00:00<?, ?it/s]"
      ]
     },
     "metadata": {},
     "output_type": "display_data"
    },
    {
     "data": {
      "application/vnd.jupyter.widget-view+json": {
       "model_id": "eec46771036745a8afd8d9832c38f429",
       "version_major": 2,
       "version_minor": 0
      },
      "text/plain": [
       "Validation: |          | 0/? [00:00<?, ?it/s]"
      ]
     },
     "metadata": {},
     "output_type": "display_data"
    },
    {
     "data": {
      "application/vnd.jupyter.widget-view+json": {
       "model_id": "fbd57b0bbce94210aa78e68cbd404878",
       "version_major": 2,
       "version_minor": 0
      },
      "text/plain": [
       "Validation: |          | 0/? [00:00<?, ?it/s]"
      ]
     },
     "metadata": {},
     "output_type": "display_data"
    },
    {
     "data": {
      "application/vnd.jupyter.widget-view+json": {
       "model_id": "df5208a819f44b3b80ddb81789e927a2",
       "version_major": 2,
       "version_minor": 0
      },
      "text/plain": [
       "Validation: |          | 0/? [00:00<?, ?it/s]"
      ]
     },
     "metadata": {},
     "output_type": "display_data"
    },
    {
     "data": {
      "application/vnd.jupyter.widget-view+json": {
       "model_id": "85fdb4b29d6847e6aae00686273ef2d0",
       "version_major": 2,
       "version_minor": 0
      },
      "text/plain": [
       "Validation: |          | 0/? [00:00<?, ?it/s]"
      ]
     },
     "metadata": {},
     "output_type": "display_data"
    },
    {
     "data": {
      "application/vnd.jupyter.widget-view+json": {
       "model_id": "f39062ac26ab4a3fbf92e03ba4ed452f",
       "version_major": 2,
       "version_minor": 0
      },
      "text/plain": [
       "Validation: |          | 0/? [00:00<?, ?it/s]"
      ]
     },
     "metadata": {},
     "output_type": "display_data"
    },
    {
     "data": {
      "application/vnd.jupyter.widget-view+json": {
       "model_id": "253740942c244209aa1d0bc3816948c2",
       "version_major": 2,
       "version_minor": 0
      },
      "text/plain": [
       "Validation: |          | 0/? [00:00<?, ?it/s]"
      ]
     },
     "metadata": {},
     "output_type": "display_data"
    },
    {
     "data": {
      "application/vnd.jupyter.widget-view+json": {
       "model_id": "db39a7fa266b430eb9cafdabe6c9ea09",
       "version_major": 2,
       "version_minor": 0
      },
      "text/plain": [
       "Validation: |          | 0/? [00:00<?, ?it/s]"
      ]
     },
     "metadata": {},
     "output_type": "display_data"
    },
    {
     "data": {
      "application/vnd.jupyter.widget-view+json": {
       "model_id": "e583cabef72a4a62998ad803634f2102",
       "version_major": 2,
       "version_minor": 0
      },
      "text/plain": [
       "Validation: |          | 0/? [00:00<?, ?it/s]"
      ]
     },
     "metadata": {},
     "output_type": "display_data"
    },
    {
     "data": {
      "application/vnd.jupyter.widget-view+json": {
       "model_id": "d7461816a69b4dce8f14a831f6f1f1c4",
       "version_major": 2,
       "version_minor": 0
      },
      "text/plain": [
       "Validation: |          | 0/? [00:00<?, ?it/s]"
      ]
     },
     "metadata": {},
     "output_type": "display_data"
    },
    {
     "data": {
      "application/vnd.jupyter.widget-view+json": {
       "model_id": "3fcdcda9e35e4ab6ade4ca5b467c5850",
       "version_major": 2,
       "version_minor": 0
      },
      "text/plain": [
       "Validation: |          | 0/? [00:00<?, ?it/s]"
      ]
     },
     "metadata": {},
     "output_type": "display_data"
    },
    {
     "data": {
      "application/vnd.jupyter.widget-view+json": {
       "model_id": "7cbb5bc732874709a0de20dfd089bbb9",
       "version_major": 2,
       "version_minor": 0
      },
      "text/plain": [
       "Validation: |          | 0/? [00:00<?, ?it/s]"
      ]
     },
     "metadata": {},
     "output_type": "display_data"
    },
    {
     "data": {
      "application/vnd.jupyter.widget-view+json": {
       "model_id": "591e4573d6354901b53b4cdfd06aaf15",
       "version_major": 2,
       "version_minor": 0
      },
      "text/plain": [
       "Validation: |          | 0/? [00:00<?, ?it/s]"
      ]
     },
     "metadata": {},
     "output_type": "display_data"
    },
    {
     "data": {
      "application/vnd.jupyter.widget-view+json": {
       "model_id": "8fd6db18e8b7406d990e5254a9386c85",
       "version_major": 2,
       "version_minor": 0
      },
      "text/plain": [
       "Validation: |          | 0/? [00:00<?, ?it/s]"
      ]
     },
     "metadata": {},
     "output_type": "display_data"
    },
    {
     "data": {
      "application/vnd.jupyter.widget-view+json": {
       "model_id": "6e65885c94f34194bd0162547df15ca7",
       "version_major": 2,
       "version_minor": 0
      },
      "text/plain": [
       "Validation: |          | 0/? [00:00<?, ?it/s]"
      ]
     },
     "metadata": {},
     "output_type": "display_data"
    },
    {
     "data": {
      "application/vnd.jupyter.widget-view+json": {
       "model_id": "0ed9c09500ad4bdc9d8260bd2f98bc07",
       "version_major": 2,
       "version_minor": 0
      },
      "text/plain": [
       "Validation: |          | 0/? [00:00<?, ?it/s]"
      ]
     },
     "metadata": {},
     "output_type": "display_data"
    },
    {
     "data": {
      "application/vnd.jupyter.widget-view+json": {
       "model_id": "4139a2a999c94e1f9d68e1c55e186af8",
       "version_major": 2,
       "version_minor": 0
      },
      "text/plain": [
       "Validation: |          | 0/? [00:00<?, ?it/s]"
      ]
     },
     "metadata": {},
     "output_type": "display_data"
    },
    {
     "data": {
      "application/vnd.jupyter.widget-view+json": {
       "model_id": "e07b1a476bbc4334a2f5378d5ffb85b6",
       "version_major": 2,
       "version_minor": 0
      },
      "text/plain": [
       "Validation: |          | 0/? [00:00<?, ?it/s]"
      ]
     },
     "metadata": {},
     "output_type": "display_data"
    },
    {
     "data": {
      "application/vnd.jupyter.widget-view+json": {
       "model_id": "9be0dd7a27f54968a5c373386acee263",
       "version_major": 2,
       "version_minor": 0
      },
      "text/plain": [
       "Validation: |          | 0/? [00:00<?, ?it/s]"
      ]
     },
     "metadata": {},
     "output_type": "display_data"
    },
    {
     "data": {
      "application/vnd.jupyter.widget-view+json": {
       "model_id": "b9850a540cc54594b3ad5f2131a3cca8",
       "version_major": 2,
       "version_minor": 0
      },
      "text/plain": [
       "Validation: |          | 0/? [00:00<?, ?it/s]"
      ]
     },
     "metadata": {},
     "output_type": "display_data"
    },
    {
     "data": {
      "application/vnd.jupyter.widget-view+json": {
       "model_id": "72c36087a8f64fcf869ad84f99712d99",
       "version_major": 2,
       "version_minor": 0
      },
      "text/plain": [
       "Validation: |          | 0/? [00:00<?, ?it/s]"
      ]
     },
     "metadata": {},
     "output_type": "display_data"
    },
    {
     "data": {
      "application/vnd.jupyter.widget-view+json": {
       "model_id": "de2f732be1694b9eb8ae58581f9919b0",
       "version_major": 2,
       "version_minor": 0
      },
      "text/plain": [
       "Validation: |          | 0/? [00:00<?, ?it/s]"
      ]
     },
     "metadata": {},
     "output_type": "display_data"
    },
    {
     "data": {
      "application/vnd.jupyter.widget-view+json": {
       "model_id": "569a1f14dc1241b7a10509d79fbd9fb2",
       "version_major": 2,
       "version_minor": 0
      },
      "text/plain": [
       "Validation: |          | 0/? [00:00<?, ?it/s]"
      ]
     },
     "metadata": {},
     "output_type": "display_data"
    },
    {
     "data": {
      "application/vnd.jupyter.widget-view+json": {
       "model_id": "e071f2b2dd374f0aaaeb471457367a43",
       "version_major": 2,
       "version_minor": 0
      },
      "text/plain": [
       "Validation: |          | 0/? [00:00<?, ?it/s]"
      ]
     },
     "metadata": {},
     "output_type": "display_data"
    },
    {
     "data": {
      "application/vnd.jupyter.widget-view+json": {
       "model_id": "111de6772ded4c299f04e6f0f930970b",
       "version_major": 2,
       "version_minor": 0
      },
      "text/plain": [
       "Validation: |          | 0/? [00:00<?, ?it/s]"
      ]
     },
     "metadata": {},
     "output_type": "display_data"
    },
    {
     "data": {
      "application/vnd.jupyter.widget-view+json": {
       "model_id": "b19dd30ca4ca4168a39bbacd618979c8",
       "version_major": 2,
       "version_minor": 0
      },
      "text/plain": [
       "Validation: |          | 0/? [00:00<?, ?it/s]"
      ]
     },
     "metadata": {},
     "output_type": "display_data"
    },
    {
     "data": {
      "application/vnd.jupyter.widget-view+json": {
       "model_id": "2eb864a89981471cb250a9321b62acbc",
       "version_major": 2,
       "version_minor": 0
      },
      "text/plain": [
       "Validation: |          | 0/? [00:00<?, ?it/s]"
      ]
     },
     "metadata": {},
     "output_type": "display_data"
    },
    {
     "data": {
      "application/vnd.jupyter.widget-view+json": {
       "model_id": "8bc3ca598400467588ecf0488f322369",
       "version_major": 2,
       "version_minor": 0
      },
      "text/plain": [
       "Validation: |          | 0/? [00:00<?, ?it/s]"
      ]
     },
     "metadata": {},
     "output_type": "display_data"
    },
    {
     "data": {
      "application/vnd.jupyter.widget-view+json": {
       "model_id": "aebd85a4969a4cccbd4927845a63b372",
       "version_major": 2,
       "version_minor": 0
      },
      "text/plain": [
       "Validation: |          | 0/? [00:00<?, ?it/s]"
      ]
     },
     "metadata": {},
     "output_type": "display_data"
    },
    {
     "data": {
      "application/vnd.jupyter.widget-view+json": {
       "model_id": "a20279f84cdc4cc99265912182bce456",
       "version_major": 2,
       "version_minor": 0
      },
      "text/plain": [
       "Validation: |          | 0/? [00:00<?, ?it/s]"
      ]
     },
     "metadata": {},
     "output_type": "display_data"
    },
    {
     "data": {
      "application/vnd.jupyter.widget-view+json": {
       "model_id": "8b6120ecc07a4610bca10995548a93d5",
       "version_major": 2,
       "version_minor": 0
      },
      "text/plain": [
       "Validation: |          | 0/? [00:00<?, ?it/s]"
      ]
     },
     "metadata": {},
     "output_type": "display_data"
    },
    {
     "name": "stderr",
     "output_type": "stream",
     "text": [
      "`Trainer.fit` stopped: `max_epochs=50` reached.\n"
     ]
    }
   ],
   "source": [
    "seed_everything(42, workers=True)\n",
    "\n",
    "data = JSRTDataModule(data_dir='./data/JSRT', batch_size=5)\n",
    "\n",
    "model = ImageSegmenter(output_dim=4, learning_rate=0.001)\n",
    "\n",
    "trainer = Trainer(\n",
    "    max_epochs=50,\n",
    "    accelerator='auto',\n",
    "    devices=1,\n",
    "    log_every_n_steps=5,\n",
    "    logger=TensorBoardLogger(save_dir='./lightning_logs/segmentation/', name='jsrt-single-conv'),\n",
    "    callbacks=[ModelCheckpoint(monitor=\"val_loss\", mode='min'), TQDMProgressBar(refresh_rate=10)],\n",
    ")\n",
    "trainer.fit(model=model, datamodule=data)"
   ]
  },
  {
   "cell_type": "markdown",
   "metadata": {},
   "source": [
    "## Validation"
   ]
  },
  {
   "cell_type": "markdown",
   "metadata": {},
   "source": [
    "Evaluate the trained model with the best checkpoint on the validation data and report the segmentation performance."
   ]
  },
  {
   "cell_type": "code",
   "execution_count": 9,
   "metadata": {},
   "outputs": [
    {
     "name": "stderr",
     "output_type": "stream",
     "text": [
      "Restoring states from the checkpoint path at ./lightning_logs/segmentation/jsrt-single-conv/version_0/checkpoints/epoch=48-step=1862.ckpt\n",
      "LOCAL_RANK: 0 - CUDA_VISIBLE_DEVICES: [0]\n",
      "Loaded model weights from the checkpoint at ./lightning_logs/segmentation/jsrt-single-conv/version_0/checkpoints/epoch=48-step=1862.ckpt\n"
     ]
    },
    {
     "data": {
      "application/vnd.jupyter.widget-view+json": {
       "model_id": "0ecf9135529846249e33ff252a7a2b4c",
       "version_major": 2,
       "version_minor": 0
      },
      "text/plain": [
       "Validation: |          | 0/? [00:00<?, ?it/s]"
      ]
     },
     "metadata": {},
     "output_type": "display_data"
    },
    {
     "name": "stdout",
     "output_type": "stream",
     "text": [
      "────────────────────────────────────────────────────────────────────────────────────────────────────────────────────────\n",
      "     Validate metric           DataLoader 0\n",
      "────────────────────────────────────────────────────────────────────────────────────────────────────────────────────────\n",
      "        val_dice                    0.0\n",
      "        val_loss            0.9650789499282837\n",
      "────────────────────────────────────────────────────────────────────────────────────────────────────────────────────────\n"
     ]
    },
    {
     "data": {
      "text/plain": [
       "[{'val_loss': 0.9650789499282837, 'val_dice': 0.0}]"
      ]
     },
     "execution_count": 9,
     "metadata": {},
     "output_type": "execute_result"
    }
   ],
   "source": [
    "trainer.validate(model=model, datamodule=data, ckpt_path=trainer.checkpoint_callback.best_model_path)"
   ]
  },
  {
   "cell_type": "markdown",
   "metadata": {},
   "source": [
    "## Testing"
   ]
  },
  {
   "cell_type": "markdown",
   "metadata": {},
   "source": [
    "Evaluate the trained model with the best checkpoint on the test data and report the segmentation performance."
   ]
  },
  {
   "cell_type": "code",
   "execution_count": 10,
   "metadata": {},
   "outputs": [
    {
     "name": "stderr",
     "output_type": "stream",
     "text": [
      "Restoring states from the checkpoint path at ./lightning_logs/segmentation/jsrt-single-conv/version_0/checkpoints/epoch=48-step=1862.ckpt\n",
      "LOCAL_RANK: 0 - CUDA_VISIBLE_DEVICES: [0]\n",
      "Loaded model weights from the checkpoint at ./lightning_logs/segmentation/jsrt-single-conv/version_0/checkpoints/epoch=48-step=1862.ckpt\n",
      "/home/eder/miniconda3/envs/mlimaging/lib/python3.10/site-packages/pytorch_lightning/trainer/connectors/data_connector.py:425: The 'test_dataloader' does not have many workers which may be a bottleneck. Consider increasing the value of the `num_workers` argument` to `num_workers=11` in the `DataLoader` to improve performance.\n"
     ]
    },
    {
     "data": {
      "application/vnd.jupyter.widget-view+json": {
       "model_id": "5651273daa414c11b76abd64a9f63a53",
       "version_major": 2,
       "version_minor": 0
      },
      "text/plain": [
       "Testing: |          | 0/? [00:00<?, ?it/s]"
      ]
     },
     "metadata": {},
     "output_type": "display_data"
    },
    {
     "name": "stdout",
     "output_type": "stream",
     "text": [
      "────────────────────────────────────────────────────────────────────────────────────────────────────────────────────────\n",
      "       Test metric             DataLoader 0\n",
      "────────────────────────────────────────────────────────────────────────────────────────────────────────────────────────\n",
      "        test_dice          0.0006129096145741642\n",
      "        test_loss           0.9739686846733093\n",
      "────────────────────────────────────────────────────────────────────────────────────────────────────────────────────────\n"
     ]
    },
    {
     "data": {
      "text/plain": [
       "[{'test_loss': 0.9739686846733093, 'test_dice': 0.0006129096145741642}]"
      ]
     },
     "execution_count": 10,
     "metadata": {},
     "output_type": "execute_result"
    }
   ],
   "source": [
    "trainer.test(model=model, datamodule=data, ckpt_path=trainer.checkpoint_callback.best_model_path)"
   ]
  },
  {
   "cell_type": "markdown",
   "metadata": {},
   "source": [
    "## Visualisation"
   ]
  },
  {
   "cell_type": "markdown",
   "metadata": {},
   "source": [
    "Let's visualise the segmentation result for a random test image."
   ]
  },
  {
   "cell_type": "code",
   "execution_count": 11,
   "metadata": {},
   "outputs": [
    {
     "data": {
      "text/plain": [
       "Text(0.5, 1.0, 'probability map')"
      ]
     },
     "execution_count": 11,
     "metadata": {},
     "output_type": "execute_result"
    },
    {
     "data": {
      "image/png": "[encoded data removed]",
      "text/plain": [
       "<Figure size 1500x1500 with 4 Axes>"
      ]
     },
     "metadata": {},
     "output_type": "display_data"
    }
   ],
   "source": [
    "test_sample = data.test_set[0]\n",
    "image = test_sample['image'].squeeze()\n",
    "labelmap = test_sample['labelmap'].squeeze()\n",
    "probmap = np.moveaxis(model.test_probmaps[0][0,1:4,...].cpu().numpy(), 0, -1)\n",
    "predmap = model.test_predmaps[0][0,...].cpu().numpy()\n",
    "\n",
    "f, ax = plt.subplots(1,4, figsize=(15, 15))\n",
    "\n",
    "ax[0].imshow(image, cmap=matplotlib.cm.gray)\n",
    "ax[0].axis('off')\n",
    "ax[0].set_title('image')\n",
    "\n",
    "ax[1].imshow(labelmap, cmap=matplotlib.cm.gray)\n",
    "ax[1].axis('off')\n",
    "ax[1].set_title('labelmap')\n",
    "\n",
    "ax[2].imshow(predmap, cmap=matplotlib.cm.gray)\n",
    "ax[2].axis('off')\n",
    "ax[2].set_title('prediction')\n",
    "\n",
    "ax[3].imshow(probmap, cmap=matplotlib.cm.bwr)\n",
    "ax[3].axis('off')\n",
    "ax[3].set_title('probability map')"
   ]
  },
  {
   "cell_type": "markdown",
   "metadata": {},
   "source": [
    "## Logging"
   ]
  },
  {
   "cell_type": "code",
   "execution_count": 12,
   "metadata": {},
   "outputs": [
    {
     "data": {
      "text/html": [
       "\n",
       "      <iframe id=\"tensorboard-frame-1c80317fa3b1799d\" width=\"100%\" height=\"800\" frameborder=\"0\">\n",
       "      </iframe>\n",
       "      <script>\n",
       "        (function() {\n",
       "          const frame = document.getElementById(\"tensorboard-frame-1c80317fa3b1799d\");\n",
       "          const url = new URL(\"/\", window.location);\n",
       "          const port = 6006;\n",
       "          if (port) {\n",
       "            url.port = port;\n",
       "          }\n",
       "          frame.src = url;\n",
       "        })();\n",
       "      </script>\n",
       "    "
      ],
      "text/plain": [
       "<IPython.core.display.HTML object>"
      ]
     },
     "metadata": {},
     "output_type": "display_data"
    }
   ],
   "source": [
    "%load_ext tensorboard\n",
    "%tensorboard --logdir './lightning_logs/segmentation/'"
   ]
  }
 ],
 "metadata": {
  "kernelspec": {
   "display_name": "mlimaging",
   "language": "python",
   "name": "python3"
  },
  "language_info": {
   "codemirror_mode": {
    "name": "ipython",
    "version": 3
   },
   "file_extension": ".py",
   "mimetype": "text/x-python",
   "name": "python",
   "nbconvert_exporter": "python",
   "pygments_lexer": "ipython3",
   "version": "3.10.16"
  }
 },
 "nbformat": 4,
 "nbformat_minor": 2
}
